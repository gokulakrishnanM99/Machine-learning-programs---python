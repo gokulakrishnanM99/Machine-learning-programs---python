{
  "nbformat": 4,
  "nbformat_minor": 0,
  "metadata": {
    "colab": {
      "name": "Mathematical Optimization Techniques Appointment and surgery Scheduling.ipynb",
      "provenance": [],
      "collapsed_sections": []
    },
    "kernelspec": {
      "name": "python3",
      "display_name": "Python 3"
    },
    "language_info": {
      "name": "python"
    }
  },
  "cells": [
    {
      "cell_type": "markdown",
      "source": [
        "# **Industrial Engineering and Operations Research for Health Care**\n",
        "**Mathematical Optimization Techniques Appointment and surgery Scheduling**"
      ],
      "metadata": {
        "id": "o6_u-dcpBJXm"
      }
    },
    {
      "cell_type": "markdown",
      "source": [
        "The colab book conatains code for \n",
        "1.   Patient appointment and scheduling implemented by Bailey-Welch rule and Soriano's rule. The patient waiting time and doctor's idle time for above two methods are calculated.\n",
        "\n",
        "2. Simulated three different type Surgery scheduling for same distribution and calculated Total cost of keeping the OT idle & Total cost of keeping the patient and staff keep waiting for each schedule."
      ],
      "metadata": {
        "id": "RRQtu-wxZaHZ"
      }
    },
    {
      "cell_type": "markdown",
      "source": [
        "**Patient appointment and scheduling**\n",
        "\n",
        "Considering the problem of scheduling appointments for a single practitioner. Finding an appropriate schedule for 'n' patients over 'x' hours with its performance by means of discrete event simulation. Assuming that the time a patient sits with the practitioner is roughly gamma distributed with a certain mean, and the standard deviation.\n"
      ],
      "metadata": {
        "id": "fPPzEaE3BLwL"
      }
    },
    {
      "cell_type": "code",
      "source": [
        "import numpy as np\n",
        "def Gamma_Distribution(mean, stdv, n): #function which generate a gamma distribution with given mean and standard deviation\n",
        "  variance = stdv ** 2 #variance calculation\n",
        "  A = (mean**2) / variance\n",
        "  B =  variance / mean\n",
        "  #alpha and betta calculation for gamma distribution\n",
        "  waiting_distribution = np.random.gamma(A,B,n)\n",
        "  return waiting_distribution\n"
      ],
      "metadata": {
        "id": "Q_jgCdDOSNzO"
      },
      "execution_count": 9,
      "outputs": []
    },
    {
      "cell_type": "code",
      "source": [
        "def Plot_Hist(wait_time): #function for plotting histogram along with a line graph\n",
        "  _, bins, _ = plt.hist(wait_time , 20, density= True, alpha=0.9, color='r')\n",
        "  Mean, sigma = norm.fit(wait_time)\n",
        "  best_fit_line = norm.pdf(bins, Mean, sigma)\n",
        "  plt.plot(bins, best_fit_line, 'k', linewidth =  3)\n",
        "  plt.show()\n"
      ],
      "metadata": {
        "id": "cQoNB6vUTgRZ"
      },
      "execution_count": 10,
      "outputs": []
    },
    {
      "cell_type": "markdown",
      "source": [
        "**(a)** Considering two patients are called for appointment. Simulation for the waiting time of the second patient to get service with histogram of the waiting times for sufficient large number of runs. This part is limited to only two patients.\n"
      ],
      "metadata": {
        "id": "bJV-nOkLBAnk"
      }
    },
    {
      "cell_type": "code",
      "source": [
        "import numpy as np\n",
        "import matplotlib.pyplot as plt\n",
        "import statistics\n",
        "from scipy.stats import norm\n",
        "mean  = 10\n",
        "stdv = 2\n",
        "n = 2\n",
        "runs = 10000 #running simulation times\n",
        "#initializing variables\n",
        "W = []\n",
        "patient_wait_time =[]\n",
        "for i in range(runs):\n",
        "  W.append(list(Gamma_Distribution(mean, stdv, n))) #calling function\n",
        "for i in W:\n",
        "  for j in i:\n",
        "   patient_wait_time .append(j)\n",
        "mode = statistics.mode(np.round(patient_wait_time ))\n",
        "print(\"The waiting time of Second patient calculted by simulation is\", + mode)\n",
        "Plot_Hist(patient_wait_time)\n",
        "print(\"The histogram plot is skewwd at center with the mode of \", + (mode))"
      ],
      "metadata": {
        "colab": {
          "base_uri": "https://localhost:8080/",
          "height": 300
        },
        "id": "AW1dO6zuS3Gc",
        "outputId": "c6bd09b4-a2d4-4898-e38d-95a30e966e88"
      },
      "execution_count": 11,
      "outputs": [
        {
          "output_type": "stream",
          "name": "stdout",
          "text": [
            "The waiting time of Second patient calculted by simulation is 10.0\n"
          ]
        },
        {
          "output_type": "display_data",
          "data": {
            "text/plain": [
              "<Figure size 432x288 with 1 Axes>"
            ],
            "image/png": "[encoded data removed]"
          },
          "metadata": {
            "needs_background": "light"
          }
        },
        {
          "output_type": "stream",
          "name": "stdout",
          "text": [
            "The histogram plot is skewwd at center with the mode of  10.0\n"
          ]
        }
      ]
    },
    {
      "cell_type": "markdown",
      "source": [
        "**(b)** Implementing the Bailey and Welch rule of calling two patients at start and then one patient every 12 minutes. Simulation run for large number of times until all patients are served to find out the average sum of all waiting times of all patients and the average practitioner idletime."
      ],
      "metadata": {
        "id": "rNC-kEY2CHQN"
      }
    },
    {
      "cell_type": "markdown",
      "source": [
        "# **Bailey-Welch rule**\n",
        "\n",
        "The  most  well-known  outpatient  appointment  rule  is the Bailey-Welch rule  (Bailey  1952,  Welch  1964) which  assigns  two appointments  for the very first slot and one appointment in the  rest of the slots. This rule was shown using queuing models and simulation studies with mean service times. It is considered as robust one.  "
      ],
      "metadata": {
        "id": "ZLkdjw1zRYrB"
      }
    },
    {
      "cell_type": "code",
      "source": [
        "# Bailey and Welch's rule Implementation\n",
        "import numpy as np\n",
        "import matplotlib.pyplot as plt\n",
        "mean  = 12\n",
        "stdv = 3\n",
        "n = 30\n",
        "#initializing variables and lists\n",
        "W =[]\n",
        "WT =[]\n",
        "runs = 10\n",
        "total_patient_waiting = 0  \n",
        "total_practitioner_waiting = 0  \n",
        "for i in range(runs):\n",
        "  patient_wait = 0\n",
        "  practitioner_idle=0\n",
        "  service_time = list (Gamma_Distribution(mean, stdv, n)) #calling function to generate a gamma distibution\n",
        "  patient_wait = service_time[0]\n",
        "  #Two patients called initially waiting time of 2nd patient is the service time of 1st patient\n",
        "  if service_time[0] + service_time[1] <= mean: #check whether doctor is idle or patient will wait\n",
        "    patient_wait = patient_wait\n",
        "    practitioner_idle = practitioner_idle + (mean - service_time[0] - service_time[1])\n",
        "  else :\n",
        "    patient_wait = patient_wait + (service_time[0] + service_time[1]- mean)\n",
        "\n",
        "  current_time = service_time[0] + service_time[1] + service_time[2]\n",
        "\n",
        "  for j in range(1, n-2): #after 2 patients modelling for patients from 3 to 30\n",
        "    n_time = mean*j\n",
        "    if current_time <= mean + n_time: #check whether doctor is idle or patient will wait\n",
        "      patient_wait = patient_wait\n",
        "      practitioner_idle = practitioner_idle + (mean + n_time - current_time)\n",
        "    else:\n",
        "      patient_wait = patient_wait + (current_time - (mean+n_time))\n",
        "\n",
        "    current_time = current_time + service_time[2+j] + practitioner_idle #current time for next player\n",
        "  \n",
        "  total_patient_waiting = total_patient_waiting + patient_wait\n",
        "  total_practitioner_waiting = total_practitioner_waiting + practitioner_idle\n",
        "\n",
        "Avg_patients_waiting_time = int(np.round(total_patient_waiting / (runs)))\n",
        "Avg_patient_waiting_time = int(np.round(total_patient_waiting / (runs * n)))\n",
        "Avg__practitioner_waiting_time = int(np.round(total_practitioner_waiting / runs))\n",
        "print(\"Average idle time of the practitioner = \" + str(Avg__practitioner_waiting_time) + \" mins\")\n",
        "print(\"Average waiting time of one patient = \" + str(Avg_patient_waiting_time) +  \" mins\")\n",
        "print(\"Average waiting time of \" + str(n) + \" patients = \" + str(Avg_patients_waiting_time) +  \" mins\")\n"
      ],
      "metadata": {
        "colab": {
          "base_uri": "https://localhost:8080/"
        },
        "id": "d4H9s73EigFP",
        "outputId": "ac8e80f3-91dd-4eb5-e260-2c37d0eb5cb1"
      },
      "execution_count": 12,
      "outputs": [
        {
          "output_type": "stream",
          "name": "stdout",
          "text": [
            "Average idle time of the practitioner = 2 mins\n",
            "Average waiting time of one patient = 19 mins\n",
            "Average waiting time of 30 patients = 570 mins\n"
          ]
        }
      ]
    },
    {
      "cell_type": "markdown",
      "source": [
        "**(c)** Implementing the Soriano’s rule of calling two patients at start and then two patients every 24 minutes. Simulation run for large number of times until all patients are served to find out the average sum of all waiting times of all patients and the average practitioner idletime."
      ],
      "metadata": {
        "id": "OdH6bAAACWO1"
      }
    },
    {
      "cell_type": "markdown",
      "source": [
        "# **Soriano's rule**\n",
        "is based on Mixed-block appoinment system. In this system at each block two patients will be appointed, while one patient getting the service other one need to wait. 3rd and 4th person need to come during start of the second block."
      ],
      "metadata": {
        "id": "2eAywkvDVQHo"
      }
    },
    {
      "cell_type": "code",
      "source": [
        "# Soriano’s rule Implementation\n",
        "import numpy as np\n",
        "import matplotlib.pyplot as plt\n",
        "mean  = 12\n",
        "stdv = 3\n",
        "n = 30\n",
        "W =[]\n",
        "WT =[]\n",
        "runs = 10000\n",
        "total_patient_waiting = 0  \n",
        "total_practitioner_waiting = 0  \n",
        "for i in range(runs):\n",
        "  patient_wait = 0\n",
        "  practitioner_idle=0\n",
        "  service_time = list (Gamma_Distribution(mean, stdv, n)) #calling function to generate a gamma distibution\n",
        "  patient_wait = service_time[0]\n",
        "  #Two patients called initially waiting time of 2nd patient is the service time of 1st patient\n",
        "  if service_time[0] + service_time[1] <= mean: #check whether doctor is idle or patient will wait\n",
        "    patient_wait = patient_wait\n",
        "    practitioner_idle = practitioner_idle + (mean - service_time[0] - service_time[1])\n",
        "  else :\n",
        "    patient_wait = patient_wait + (service_time[0] + service_time[1]- mean)\n",
        "\n",
        "  current_time = service_time[0] + service_time[1] + service_time[2]\n",
        "\n",
        "  for j in range(1, n-3, 2): #after 2 patients modelling for patients from 3 to 30 calling two patients at a time\n",
        "    n_time = mean*(j +1) # j+1 modelled for 24 mins\n",
        "    if current_time <= mean + n_time:\n",
        "      patient_wait = patient_wait\n",
        "      practitioner_idle = practitioner_idle + (mean + n_time - current_time)\n",
        "    else:\n",
        "      patient_wait = patient_wait + (current_time - (mean + n_time))\n",
        "\n",
        "    current_time = current_time + service_time[2+j] + service_time[3+j] + practitioner_idle\n",
        "  total_patient_waiting = total_patient_waiting + patient_wait\n",
        "  total_practitioner_waiting = total_practitioner_waiting + practitioner_idle\n",
        "#print(service_time)\n",
        "Avg_patients_waiting_time = int(np.round(total_patient_waiting / (runs)))\n",
        "Avg_patient_waiting_time = int(np.round(total_patient_waiting / (runs * n)))\n",
        "Avg__practitioner_waiting_time = int(np.round(total_practitioner_waiting / runs))\n",
        "print(\"Average idle time of the practitioner = \" + str(Avg__practitioner_waiting_time) + \" mins\")\n",
        "print(\"Average waiting time of one patient = \" + str(Avg_patient_waiting_time) +  \" mins\")\n",
        "print(\"Average waiting time of \" + str(n) + \" patients = \" + str(Avg_patients_waiting_time) +  \" mins\")"
      ],
      "metadata": {
        "id": "5g-CzcwdpAxw",
        "colab": {
          "base_uri": "https://localhost:8080/"
        },
        "outputId": "c4505768-7ec0-4841-88de-98a6cebbb0ab"
      },
      "execution_count": 13,
      "outputs": [
        {
          "output_type": "stream",
          "name": "stdout",
          "text": [
            "Average idle time of the practitioner = 5 mins\n",
            "Average waiting time of one patient = 11 mins\n",
            "Average waiting time of 30 patients = 328 mins\n"
          ]
        }
      ]
    },
    {
      "cell_type": "markdown",
      "source": [
        "# **Surgery scheduling**"
      ],
      "metadata": {
        "id": "7GwUzcEtW906"
      }
    },
    {
      "cell_type": "markdown",
      "source": [
        "Five surgeries are to be scheduled in an operation theatre. Assuming that the ratio of cost of keeping the OT idle to keeping the staff and patients waiting is 5, and the time in each surgery roughly follows a gamma distribution with certain mean and standard deviation. Three different schedules with ‘cost estimate’ of each schedule by means of simulation"
      ],
      "metadata": {
        "id": "LnLrTWraFYAd"
      }
    },
    {
      "cell_type": "code",
      "source": [
        "import numpy as np \n",
        "def time(w, initial_time): #function to calculate time from minutes distribution\n",
        "  hr = int(w // 60) + initial_time\n",
        "  min = np.round(((w % 60) / 100), 2)\n",
        "  Time = hr + min\n",
        "  return np.round(Time, 2)\n"
      ],
      "metadata": {
        "id": "GLejU1fwnyl1"
      },
      "execution_count": 14,
      "outputs": []
    },
    {
      "cell_type": "code",
      "source": [
        "#3 different schedule times by simulation\n",
        "import numpy as np\n",
        "import matplotlib.pyplot as plt\n",
        "\n",
        "mean = 50\n",
        "std = 15\n",
        "patients = 5\n",
        "initial_time = 9\n",
        "print(\"Considere the initial 1st surgery start at 9.00 in the morning\")\n",
        "for i in range(1,4):\n",
        "  w_t=0   # paramter defined for waiting time \n",
        "  #waiting_time = [] \n",
        "  wait = [] # list of waiting tme of patients\n",
        "  service_time = Gamma_Distribution(mean, std, patients) #randomly generated gamma distribution\n",
        "  #waiting_time.append(w_t) # waiting time is 0 for first patient\n",
        "  wait.append(initial_time) #surgery starting at 9\n",
        "  for j in range(patients):\n",
        "    w_t = w_t + service_time[j]\n",
        "    #waiting_time.append(w_t)\n",
        "    wait.append(time(w_t, initial_time))\n",
        "  #print(waiting_time)\n",
        "  print(str(i) + \"th schedule\")\n",
        "  print(wait)"
      ],
      "metadata": {
        "colab": {
          "base_uri": "https://localhost:8080/"
        },
        "id": "UKjqe02aAxNh",
        "outputId": "fb6519ff-8b28-4d70-e228-e3fd747c2498"
      },
      "execution_count": 15,
      "outputs": [
        {
          "output_type": "stream",
          "name": "stdout",
          "text": [
            "Considere the initial 1st surgery start at 9.00 in the morning\n",
            "1th schedule\n",
            "[9, 10.16, 11.2, 12.22, 12.56, 13.41]\n",
            "2th schedule\n",
            "[9, 9.47, 10.27, 10.44, 11.45, 12.23]\n",
            "3th schedule\n",
            "[9, 9.5, 10.52, 11.35, 12.08, 12.55]\n"
          ]
        }
      ]
    },
    {
      "cell_type": "code",
      "source": [
        "#cost estimate for each schudule with estimated schudele times.\n",
        "import numpy as np\n",
        "\n",
        "mean = 50\n",
        "std = 15\n",
        "n = 5\n",
        "initial_time = 9\n",
        "runs = 3\n",
        "cost = 5 #cost of keeping the OT idle to keep the patient & staff waiting\n",
        "#print(\"Considere the initial 1st surgery start at 9.00 in the morning\")\n",
        "\n",
        "for i in range(runs):\n",
        "  total_patient_waiting = 0  \n",
        "  total_OT_idle = 0  \n",
        "  w_t=0   # paramter defined for waiting time \n",
        "  waiting_time = [] \n",
        "  wait = [] # list of waiting time of patients\n",
        "  service_time = Gamma_Distribution(mean, std, n) #randomly generated gamma distribution\n",
        "  waiting_time.append(w_t) \n",
        "  wait.append(initial_time)\n",
        "  for j in range(n):\n",
        "    w_t = w_t + service_time[j]\n",
        "    waiting_time.append(w_t)\n",
        "    wait.append(time(w_t, initial_time))\n",
        "  print('\\033[1m' + \"Schedule\" + str(i+1) + '\\033[0m')\n",
        "  print(wait)\n",
        "  #print(np.round(waiting_time, 2))\n",
        "  patient_wait = 0\n",
        "  OT_idle=0\n",
        "  service_time = waiting_time #calling function to generate a gamma distibution\n",
        "  #patient_wait = service_time[0]\n",
        "  if service_time[0]  <= mean: #check whether OT is idle or patient will wait\n",
        "    patient_wait = patient_wait\n",
        "    OT_idle = OT_idle + (mean - service_time[0])\n",
        "  else :\n",
        "    patient_wait = patient_wait + (service_time[0])\n",
        "    \n",
        "  #print(service_time)\n",
        "  #print(patient_wait)\n",
        "  #print(OT_idle)\n",
        "  current_time = service_time[0] + service_time[1] + OT_idle\n",
        "  #print(current_time)\n",
        "  for j in range(1, n): #after 2 patients modelling for patients from 3 to 30\n",
        "    n_time = mean * j\n",
        "    #print(\"current\" , + current_time)\n",
        "    #print(\"n_t\" , + n_time)\n",
        "    #print(\"su: \" , + (current_time - n_time))\n",
        "    if current_time <= n_time: #check whether doctor is idle or patient will wait\n",
        "      patient_wait = patient_wait\n",
        "      OT_idle = OT_idle + ( n_time - current_time)\n",
        "    else:\n",
        "      patient_wait = patient_wait + (current_time - n_time)\n",
        "      OT_idle = OT_idle\n",
        "    #print(\"j\", + j)\n",
        "    #print(\"patient \", + patient_wait)\n",
        "    #print(\"ot \" , + OT_idle)\n",
        "\n",
        "    current_time =  service_time[1+j] #current time for next player\n",
        "  total_patient_waiting = total_patient_waiting + patient_wait\n",
        "  total_OT_idle = total_OT_idle + OT_idle\n",
        "  Avg_patient_waiting_time = int(np.round(total_patient_waiting / ( n)))\n",
        "  Avg__OT_idle = int(np.round(total_OT_idle))\n",
        "  Avg__OT_idle_one = int(np.round(total_OT_idle / ( n)))\n",
        "  cost_OT = Avg__OT_idle * cost\n",
        "\n",
        "  #print(\"Average idle time of the OT for total 5 patient = \" + str(Avg__OT_idle) + \" mins\")\n",
        "  #print(\"Average idle time of the OT per patient  = \" + str(Avg__OT_idle_one) + \" mins\")\n",
        "  #print(\"Average waiting time for a patient and staffs = \" + str(Avg_patient_waiting_time) +  \" mins\")\n",
        "  #print(\"\\n\")\n",
        "  print(\"Total cost of keeping the OT idle for 5 patients in schedule \" + str(i + 1) + \"  is = \" + str(cost_OT))\n",
        "  print(\"Total cost of keeping the patient and staff keep waiting in schedule \" + str(i + 1) + \" is = \" + str(Avg_patient_waiting_time))\n",
        "  print(\"\\n\")"
      ],
      "metadata": {
        "colab": {
          "base_uri": "https://localhost:8080/"
        },
        "id": "YiOAd6lrAxQc",
        "outputId": "3efc9a6b-91ee-4d15-9321-e61e7b54b464"
      },
      "execution_count": 16,
      "outputs": [
        {
          "output_type": "stream",
          "name": "stdout",
          "text": [
            "\u001b[1mSchedule1\u001b[0m\n",
            "[9, 9.25, 10.02, 11.09, 12.01, 12.55]\n",
            "Total cost of keeping the OT idle for 5 patients in schedule 1  is = 640\n",
            "Total cost of keeping the patient and staff keep waiting in schedule 1 is = 5\n",
            "\n",
            "\n",
            "\u001b[1mSchedule2\u001b[0m\n",
            "[9, 10.14, 11.2, 12.37, 13.5, 14.32]\n",
            "Total cost of keeping the OT idle for 5 patients in schedule 2  is = 250\n",
            "Total cost of keeping the patient and staff keep waiting in schedule 2 is = 54\n",
            "\n",
            "\n",
            "\u001b[1mSchedule3\u001b[0m\n",
            "[9, 9.46, 10.36, 11.4, 12.34, 13.37]\n",
            "Total cost of keeping the OT idle for 5 patients in schedule 3  is = 270\n",
            "Total cost of keeping the patient and staff keep waiting in schedule 3 is = 14\n",
            "\n",
            "\n"
          ]
        }
      ]
    }
  ]
}